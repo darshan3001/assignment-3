{
  "nbformat": 4,
  "nbformat_minor": 0,
  "metadata": {
    "colab": {
      "name": "quadratic",
      "provenance": []
    },
    "kernelspec": {
      "name": "python3",
      "display_name": "Python 3"
    }
  },
  "cells": [
    {
      "cell_type": "code",
      "metadata": {
        "id": "RvN87ciKPjaR",
        "colab_type": "code",
        "colab": {
          "base_uri": "https://localhost:8080/",
          "height": 87
        },
        "outputId": "1e3ff2dd-dda6-4f9e-f6ec-0385b4e74e0c"
      },
      "source": [
        "import math\n",
        "a=int(input(\"enter the value of a:\"))\n",
        "b=int(input(\"enter the value of b:\"))\n",
        "c=int(input(\"enter the value of c:\"))\n",
        "discriminant=(b*b)-(4*a*c)\n",
        "if discriminant>0:\n",
        "  root1=(-b+math.sqrt(discriminant))/(2*a)\n",
        "  root2=(-b-math.sqrt(discriminant))/(2*a)\n",
        "  print(\"the roots are real and discriminant\",root1,root2)\n",
        "elif discriminant==0:\n",
        "  root1=root2=(-b)/(2*a)\n",
        "  print(\"roots are real and equal\",root1,root2)\n",
        "else:\n",
        "  root1=root2=(-b)/(2*a)\n",
        "  imaginary=math.sqrt(-(discriminant))/(2*a)\n",
        "  print(\"roots are distinct and complex\",root1,imaginary,root2,imaginary)\n"
      ],
      "execution_count": 2,
      "outputs": [
        {
          "output_type": "stream",
          "text": [
            "enter the value of a:2\n",
            "enter the value of b:5\n",
            "enter the value of c:3\n",
            "the roots are real and discriminant -1.0 -1.5\n"
          ],
          "name": "stdout"
        }
      ]
    },
    {
      "cell_type": "code",
      "metadata": {
        "id": "M4EGL23vRwqb",
        "colab_type": "code",
        "colab": {}
      },
      "source": [
        ""
      ],
      "execution_count": null,
      "outputs": []
    }
  ]
}