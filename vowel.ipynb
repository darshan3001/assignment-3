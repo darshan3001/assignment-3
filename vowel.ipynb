{
  "nbformat": 4,
  "nbformat_minor": 0,
  "metadata": {
    "colab": {
      "name": "vowel",
      "provenance": []
    },
    "kernelspec": {
      "name": "python3",
      "display_name": "Python 3"
    }
  },
  "cells": [
    {
      "cell_type": "code",
      "metadata": {
        "id": "Cscu9xXyURPS",
        "colab_type": "code",
        "colab": {
          "base_uri": "https://localhost:8080/",
          "height": 52
        },
        "outputId": "40e74b35-5c74-400a-a9a6-0fc9bace79e8"
      },
      "source": [
        "ch=input(\"enter a charecter:\")\n",
        "if(ch=='a' or ch=='e' or ch=='i' or ch=='o' or ch=='u'):\n",
        "  print(ch,\" is vowel\")\n",
        "else:\n",
        "  print(ch,\" is consonant\")"
      ],
      "execution_count": 2,
      "outputs": [
        {
          "output_type": "stream",
          "text": [
            "enter a charecter:o\n",
            "o  is vowel\n"
          ],
          "name": "stdout"
        }
      ]
    },
    {
      "cell_type": "code",
      "metadata": {
        "id": "swoNOHagXQ7Q",
        "colab_type": "code",
        "colab": {}
      },
      "source": [
        "\n"
      ],
      "execution_count": null,
      "outputs": []
    }
  ]
}